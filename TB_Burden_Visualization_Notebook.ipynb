{
 "cells": [
  {
   "cell_type": "markdown",
   "id": "deeb1f04",
   "metadata": {},
   "source": [
    "# TB Burden Country — Data Visualization\n",
    "\n",
    "This notebook performs exploratory data analysis and visualization for the provided dataset. Code is intentionally simple and uses pandas and matplotlib."
   ]
  },
  {
   "cell_type": "code",
   "execution_count": null,
   "id": "6634eb7f",
   "metadata": {},
   "outputs": [],
   "source": [
    "import pandas as pd\n",
    "import matplotlib.pyplot as plt\n",
    "DATA_PATH = '/mnt/data/TB_Burden_Country.csv'\n",
    "df = pd.read_csv(DATA_PATH)\n",
    "df.head()"
   ]
  },
  {
   "cell_type": "markdown",
   "id": "673222b0",
   "metadata": {},
   "source": [
    "## Data inspection\n",
    "Check data types, missing values and basic statistics."
   ]
  },
  {
   "cell_type": "code",
   "execution_count": null,
   "id": "c3a24701",
   "metadata": {},
   "outputs": [],
   "source": [
    "df.info()\n",
    "print(df.isnull().sum())\n",
    "print(df.describe())"
   ]
  },
  {
   "cell_type": "markdown",
   "id": "60b337b4",
   "metadata": {},
   "source": [
    "## Visualizations\n",
    "1. Missing values per column\n",
    "2. Histograms for key numeric columns\n",
    "3. Scatter plot between two numeric columns\n",
    "4. Trend lines by country (if year present)\n",
    "5. Top countries bar chart"
   ]
  },
  {
   "cell_type": "code",
   "execution_count": null,
   "id": "a8604597",
   "metadata": {},
   "outputs": [],
   "source": [
    "missing = df.isnull().sum()\n",
    "missing[missing>0].sort_values(ascending=False).plot.bar(figsize=(8,4))\n",
    "plt.title('Missing values per column (non-zero only)')\n",
    "plt.ylabel('Count missing')\n",
    "plt.tight_layout()\n",
    "plt.show()"
   ]
  },
  {
   "cell_type": "code",
   "execution_count": null,
   "id": "433e4ec6",
   "metadata": {},
   "outputs": [],
   "source": [
    "numeric_cols = df.select_dtypes(include=['number']).columns.tolist()\n",
    "for c in numeric_cols[:3]:\n",
    "    if df[c].dropna().empty:\n",
    "        continue\n",
    "    plt.figure(figsize=(6,4))\n",
    "    plt.hist(df[c].dropna(), bins=30)\n",
    "    plt.title(f'Distribution of {c}')\n",
    "    plt.xlabel(c)\n",
    "    plt.ylabel('Frequency')\n",
    "    plt.tight_layout()\n",
    "    plt.show()"
   ]
  },
  {
   "cell_type": "code",
   "execution_count": null,
   "id": "96dc4ec0",
   "metadata": {},
   "outputs": [],
   "source": [
    "numeric_cols = df.select_dtypes(include=['number']).columns.tolist()\n",
    "if len(numeric_cols) >= 2:\n",
    "    x = numeric_cols[0]\n",
    "    y = numeric_cols[1]\n",
    "    plt.figure(figsize=(6,6))\n",
    "    plt.scatter(df[x], df[y], alpha=0.6)\n",
    "    plt.xlabel(x)\n",
    "    plt.ylabel(y)\n",
    "    plt.title(f'Scatter: {x} vs {y}')\n",
    "    plt.tight_layout()\n",
    "    plt.show()"
   ]
  },
  {
   "cell_type": "code",
   "execution_count": null,
   "id": "614eab90",
   "metadata": {},
   "outputs": [],
   "source": [
    "cols = df.columns.tolist()\n",
    "year_col = next((c for c in cols if 'year' in c.lower()), None)\n",
    "country_col = next((c for c in cols if any(k in c.lower() for k in ['country','territory','name'])), None)\n",
    "numeric_cols = df.select_dtypes(include=['number']).columns.tolist()\n",
    "if year_col and country_col and numeric_cols:\n",
    "    metric = numeric_cols[0]\n",
    "    top_countries = df.groupby(country_col)[metric].mean().nlargest(5).index.tolist()\n",
    "    for country in top_countries:\n",
    "        sub = df[df[country_col]==country].sort_values(year_col)\n",
    "        plt.plot(sub[year_col], sub[metric], marker='o', label=country)\n",
    "    plt.title(f'{metric} over time for top countries')\n",
    "    plt.xlabel(year_col)\n",
    "    plt.ylabel(metric)\n",
    "    plt.legend()\n",
    "    plt.tight_layout()\n",
    "    plt.show()"
   ]
  },
  {
   "cell_type": "code",
   "execution_count": null,
   "id": "04fbf175",
   "metadata": {},
   "outputs": [],
   "source": [
    "if country_col and numeric_cols:\n",
    "    metric = numeric_cols[0]\n",
    "    top = df.groupby(country_col)[metric].mean().nlargest(10)\n",
    "    top.plot.bar(figsize=(8,5))\n",
    "    plt.title(f'Top 10 countries by mean {metric}')\n",
    "    plt.ylabel(metric)\n",
    "    plt.xlabel(country_col)\n",
    "    plt.tight_layout()\n",
    "    plt.show()"
   ]
  },
  {
   "cell_type": "markdown",
   "id": "72478091",
   "metadata": {},
   "source": [
    "## Conclusions\n",
    "- Visualizations help identify missing data, distributions, relationships and temporal trends.\n",
    "- Next steps: handle missing values, normalize metrics where needed, and build more advanced visualizations (e.g., maps, treemaps) if geographic data is available."
   ]
  }
 ],
 "metadata": {},
 "nbformat": 4,
 "nbformat_minor": 5
}
